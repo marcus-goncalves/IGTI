{
 "cells": [
  {
   "cell_type": "markdown",
   "metadata": {},
   "source": [
    "# Modulo 1 - FUNDAMENTOS\n",
    "\n",
    "## Capítulo1 - Introdução\n",
    "\n",
    "Dados >> Informação >> Conhecimento\n",
    "\n",
    "* 3 V´s do Big Data:\n",
    "    * Volume: Quantidade de dados produzidos no mundo\n",
    "    * Velocidade: Celeridade de produção e disseminação\n",
    "    * Variedade: Multiplicidade de fontes e formatos com os quais ele pode aparecer\n",
    "* Exemplos de formatos: tabela, fotos, videos, tweets, artigos, conexões, transações, georeferenciamento\n",
    "* Ferramentas:\n",
    "    * Data Lakes: repositório de dados agnóstico de formato\n",
    "    * ETL: Extraction / Transformation / Load\n",
    "    * Data Warehouses: repositório de dados analíticos\n",
    "\n",
    "## Capítulo3 - Extração\n",
    "* Exemplos de fontes de extração:\n",
    "    * APIs\n",
    "    * Crawlers\n",
    "    * Banco de Dados\n",
    "    * Streaming\n",
    "\n",
    "## Capítulo4 - Transformação\n",
    "* Exemplos de atividades de transformação:\n",
    "    * Limpeza de dados\n",
    "    * Organização\n",
    "    * Estruturação\n",
    "    * Enriquecimento\n",
    "\n",
    "## Capítulo5 - Soluções de ETL\n",
    "* Necessidades:\n",
    "    * Automatização\n",
    "    * Consistência de execução de jobs\n",
    "    * Encadeamento de tarefas (sequencial ou paralelas)\n",
    "    * Possibilidade de conexões variadas de **entrada e saída**\n",
    "    * Scheduler (cron)\n",
    "    * Logs\n",
    "    * Fail Safe (recuperação em caso de falha)\n",
    "    * Notificações e Alertas\n",
    "* Classes de Ferramentas:\n",
    "    * Drag and Drop: possuem interface e podem ser amplamente utilizada por áreas sem formação em TI\n",
    "    * Código: soluções mais maleáveis e customizadas, escalam com maior facilidade são extensíveis\n",
    "* Exemplos de soluções de mercado: \n",
    "    * Drag and Drop: Pentaho, Apache NiFi, \n",
    "    * Código: Knime, Talend, KubeFlow, Apache Airflow, Prefect, PachyDerm, Argo, Luigi, Metaflow, Apache Kafka\n"
   ]
  },
  {
   "cell_type": "markdown",
   "metadata": {},
   "source": [
    "### Ferramentas e Data\n",
    "* API: https://developer.twitter.com/en/dashboard\n",
    "* DB_ENADE: http://download.inep.gov.br/microdados/Enade_Microdados/microdados_enade_2019.zip\n",
    "* DB_TITANIC: https://raw.githubusercontent.com/A3Data/hermione/master/hermione/file_text/train.csv\n",
    "\n",
    "* AIRFLOW: https://airflow.apache.org/docs/stable/start.html\n",
    "* PREFECT: https://www.prefect.io\n",
    "* WSL: https://docs.microsoft.com/pt-br/windows/wsl/install-win10\n"
   ]
  },
  {
   "cell_type": "code",
   "execution_count": null,
   "metadata": {},
   "outputs": [],
   "source": []
  }
 ],
 "metadata": {
  "kernelspec": {
   "display_name": "Python 3",
   "language": "python",
   "name": "python3"
  },
  "language_info": {
   "codemirror_mode": {
    "name": "ipython",
    "version": 3
   },
   "file_extension": ".py",
   "mimetype": "text/x-python",
   "name": "python",
   "nbconvert_exporter": "python",
   "pygments_lexer": "ipython3",
   "version": "3.7.4"
  }
 },
 "nbformat": 4,
 "nbformat_minor": 4
}
