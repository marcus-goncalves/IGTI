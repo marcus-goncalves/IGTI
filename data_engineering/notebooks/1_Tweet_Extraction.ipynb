{
 "cells": [
  {
   "cell_type": "code",
   "execution_count": 2,
   "metadata": {},
   "outputs": [],
   "source": [
    "import json\n",
    "import pandas as pd\n",
    "import sqlite3"
   ]
  },
  {
   "cell_type": "code",
   "execution_count": 2,
   "metadata": {},
   "outputs": [],
   "source": [
    "with open('../projects/twitter/collected_tweets_2020-11-21-173426.txt', 'r') as file:\n",
    "    tweets = file.readlines()\n",
    "\n",
    "with open('tweet_example.json', 'w') as f:\n",
    "    json.dump(json.loads(tweets[0]), f)\n",
    "\n",
    "parsed_tweets = [json.loads(json.loads(_)) for _ in tweets]"
   ]
  },
  {
   "cell_type": "code",
   "execution_count": 3,
   "metadata": {},
   "outputs": [],
   "source": [
    "def process_tweets(tweet):\n",
    "    try:\n",
    "        df = pd.DataFrame(tweet).reset_index(drop=True).iloc[:1]\n",
    "\n",
    "        cols_to_del = ['quote_count', 'reply_count', 'retweet_count', 'favorite_count',\n",
    "                   'favorited', 'retweeted', 'user', 'entities', ]\n",
    "        df.drop(cols_to_del, axis=1, inplace=True)\n",
    "\n",
    "        df['user_id'] = tweet['user']['id']\n",
    "        df['user_id_str'] = tweet['user']['id_str']\n",
    "        df['user_screen_name'] = tweet['user']['screen_name']\n",
    "        df['user_location'] = tweet['user']['location']\n",
    "        df['user_description'] = tweet['user']['description']\n",
    "        df['user_protected'] = tweet['user']['protected']\n",
    "        df['user_verified'] = tweet['user']['verified']\n",
    "        df['user_followers_count'] = tweet['user']['followers_count']\n",
    "        df['user_friends_count'] = tweet['user']['friends_count']\n",
    "        df['user_created_at'] = tweet['user']['created_at']\n",
    "\n",
    "        user_mentions = []\n",
    "        for i in range(len(tweet['entities']['user_mentions'])):\n",
    "            _tmp = tweet['entities']['user_mentions'][i].copy()\n",
    "            _tmp.pop('indices', None)\n",
    "\n",
    "            _df = pd.DataFrame(_tmp, index=[0])\n",
    "            _df.rename(columns={\n",
    "                'screen_name': 'entities_screen_name',\n",
    "                'name': 'entities_name',\n",
    "                'id': 'entities_id',\n",
    "                'id_str': 'entities_id_str'\n",
    "            }, inplace=True)\n",
    "            user_mentions.append(_df)\n",
    "\n",
    "        mentions = []\n",
    "        for i in user_mentions:\n",
    "            mentions.append(pd.concat([df.copy(), i], axis=1))\n",
    "\n",
    "        result = pd.concat(mentions, ignore_index=True)\n",
    "        return result\n",
    "    except:\n",
    "        return None"
   ]
  },
  {
   "cell_type": "code",
   "execution_count": 4,
   "metadata": {},
   "outputs": [
    {
     "data": {
      "text/plain": [
       "3540"
      ]
     },
     "execution_count": 4,
     "metadata": {},
     "output_type": "execute_result"
    }
   ],
   "source": [
    "len(parsed_tweets)"
   ]
  },
  {
   "cell_type": "code",
   "execution_count": null,
   "metadata": {},
   "outputs": [],
   "source": [
    "treated_tweets = [process_tweets(tweet) for tweet in parsed_tweets]"
   ]
  },
  {
   "cell_type": "code",
   "execution_count": null,
   "metadata": {},
   "outputs": [],
   "source": [
    "treated_tweets_not_null = [_tweet for _tweet in treated_tweets if _tweet is not None]"
   ]
  },
  {
   "cell_type": "code",
   "execution_count": null,
   "metadata": {},
   "outputs": [],
   "source": [
    "df_final = pd.concat(treated_tweets_not_null, ignore_index=True, sort=False)"
   ]
  },
  {
   "cell_type": "code",
   "execution_count": 5,
   "metadata": {},
   "outputs": [],
   "source": [
    "# df_final.to_csv('./backup.txt', sep=';', index=False)\n",
    "df_final = pd.read_csv('./backup.txt', sep=';')"
   ]
  },
  {
   "cell_type": "code",
   "execution_count": 6,
   "metadata": {},
   "outputs": [],
   "source": [
    "conn = sqlite3.connect('./twitter.db')\n",
    "cur = conn.cursor()"
   ]
  },
  {
   "cell_type": "code",
   "execution_count": null,
   "metadata": {},
   "outputs": [],
   "source": []
  }
 ],
 "metadata": {
  "kernelspec": {
   "display_name": "Python 3",
   "language": "python",
   "name": "python3"
  },
  "language_info": {
   "codemirror_mode": {
    "name": "ipython",
    "version": 3
   },
   "file_extension": ".py",
   "mimetype": "text/x-python",
   "name": "python",
   "nbconvert_exporter": "python",
   "pygments_lexer": "ipython3",
   "version": "3.7.5"
  }
 },
 "nbformat": 4,
 "nbformat_minor": 2
}
