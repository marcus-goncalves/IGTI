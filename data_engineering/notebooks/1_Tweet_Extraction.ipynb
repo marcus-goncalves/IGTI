{
 "cells": [
  {
   "cell_type": "code",
   "execution_count": 1,
   "metadata": {},
   "outputs": [],
   "source": [
    "import os\n",
    "import json\n",
    "import pandas as pd\n",
    "import sqlite3\n",
    "import sys\n",
    "sys.path.append('../env/Lib/site-packages')\n",
    "import sqlalchemy"
   ]
  },
  {
   "cell_type": "code",
   "execution_count": 2,
   "metadata": {},
   "outputs": [
    {
     "name": "stdout",
     "output_type": "stream",
     "text": [
      "\n"
     ]
    }
   ],
   "source": [
    "file_to_load = ''\n",
    "for file in os.listdir('../projects/twitter/'):\n",
    "    if file.endswith('txt'):\n",
    "        file_to_load = file\n",
    "print(file_to_load)"
   ]
  },
  {
   "cell_type": "code",
   "execution_count": 7,
   "metadata": {},
   "outputs": [],
   "source": [
    "if file != '':\n",
    "    with open(f'../projects/twitter/{file_to_load}', 'r') as file:\n",
    "        tweets = file.readlines()\n",
    "\n",
    "    with open('tweet_example.json', 'w') as f:\n",
    "        json.dump(json.loads(tweets[0]), f)\n",
    "\n",
    "    parsed_tweets = [json.loads(json.loads(_)) for _ in tweets]\n",
    "else:\n",
    "    print('No file found!')"
   ]
  },
  {
   "cell_type": "code",
   "execution_count": 10,
   "metadata": {},
   "outputs": [],
   "source": [
    "def process_tweets(tweet):\n",
    "    try:\n",
    "        df = pd.DataFrame(tweet).reset_index(drop=True).iloc[:1]\n",
    "\n",
    "        cols_to_del = ['quote_count', 'reply_count', 'retweet_count', 'favorite_count',\n",
    "                   'favorited', 'retweeted', 'user', 'entities', ]\n",
    "        df.drop(cols_to_del, axis=1, inplace=True)\n",
    "\n",
    "        df['user_id'] = tweet['user']['id']\n",
    "        df['user_id_str'] = tweet['user']['id_str']\n",
    "        df['user_screen_name'] = tweet['user']['screen_name']\n",
    "        df['user_location'] = tweet['user']['location']\n",
    "        df['user_description'] = tweet['user']['description']\n",
    "        df['user_protected'] = tweet['user']['protected']\n",
    "        df['user_verified'] = tweet['user']['verified']\n",
    "        df['user_followers_count'] = tweet['user']['followers_count']\n",
    "        df['user_friends_count'] = tweet['user']['friends_count']\n",
    "        df['user_created_at'] = tweet['user']['created_at']\n",
    "\n",
    "        user_mentions = []\n",
    "        for i in range(len(tweet['entities']['user_mentions'])):\n",
    "            _tmp = tweet['entities']['user_mentions'][i].copy()\n",
    "            _tmp.pop('indices', None)\n",
    "\n",
    "            _df = pd.DataFrame(_tmp, index=[0])\n",
    "            _df.rename(columns={\n",
    "                'screen_name': 'entities_screen_name',\n",
    "                'name': 'entities_name',\n",
    "                'id': 'entities_id',\n",
    "                'id_str': 'entities_id_str'\n",
    "            }, inplace=True)\n",
    "            user_mentions.append(_df)\n",
    "\n",
    "        mentions = []\n",
    "        for i in user_mentions:\n",
    "            mentions.append(pd.concat([df.copy(), i], axis=1))\n",
    "\n",
    "        result = pd.concat(mentions, ignore_index=True)\n",
    "        return result\n",
    "    except:\n",
    "        return None"
   ]
  },
  {
   "cell_type": "code",
   "execution_count": 11,
   "metadata": {},
   "outputs": [
    {
     "data": {
      "text/plain": [
       "1153"
      ]
     },
     "execution_count": 11,
     "metadata": {},
     "output_type": "execute_result"
    }
   ],
   "source": [
    "len(parsed_tweets)"
   ]
  },
  {
   "cell_type": "code",
   "execution_count": 12,
   "metadata": {},
   "outputs": [],
   "source": [
    "treated_tweets = [process_tweets(tweet) for tweet in parsed_tweets]"
   ]
  },
  {
   "cell_type": "code",
   "execution_count": 13,
   "metadata": {},
   "outputs": [],
   "source": [
    "treated_tweets_not_null = [_tweet for _tweet in treated_tweets if _tweet is not None]"
   ]
  },
  {
   "cell_type": "code",
   "execution_count": 14,
   "metadata": {},
   "outputs": [],
   "source": [
    "df_final = pd.concat(treated_tweets_not_null, ignore_index=True, sort=False)"
   ]
  },
  {
   "cell_type": "code",
   "execution_count": null,
   "metadata": {},
   "outputs": [],
   "source": [
    "# df_final.to_csv('./backup.txt', sep=';', index=False)\n",
    "# df_final = pd.read_csv('./backup.txt', sep=';')"
   ]
  },
  {
   "cell_type": "code",
   "execution_count": 19,
   "metadata": {},
   "outputs": [],
   "source": [
    "try:\n",
    "    conn = sqlite3.connect('../db/mini_db.db')\n",
    "    cur = conn.cursor()\n",
    "    cur.execute('DROP TABLE tweets')\n",
    "    cur.close()\n",
    "    conn.close()\n",
    "except:\n",
    "    pass\n",
    "\n",
    "conn = sqlalchemy.create_engine('sqlite:///../../db/mini_db.db')\n",
    "df_final.to_sql('tweets', con=conn)"
   ]
  },
  {
   "cell_type": "code",
   "execution_count": null,
   "metadata": {},
   "outputs": [],
   "source": []
  }
 ],
 "metadata": {
  "kernelspec": {
   "display_name": ".env",
   "language": "python",
   "name": ".env"
  },
  "language_info": {
   "codemirror_mode": {
    "name": "ipython",
    "version": 3
   },
   "file_extension": ".py",
   "mimetype": "text/x-python",
   "name": "python",
   "nbconvert_exporter": "python",
   "pygments_lexer": "ipython3",
   "version": "3.7.5"
  }
 },
 "nbformat": 4,
 "nbformat_minor": 2
}
