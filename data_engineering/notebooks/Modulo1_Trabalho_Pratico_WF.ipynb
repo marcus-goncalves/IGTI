{
 "cells": [
  {
   "cell_type": "markdown",
   "metadata": {},
   "source": [
    "# Trabalho Prático - Módulo 1\n",
    "\n",
    "* Extraction Steps:\n",
    "    1. Download and Unzip\n",
    "    2. Data Analysis\n",
    "    3. Filter according with rules\n",
    "    4. Save csv\n",
    "\n",
    "* Rules:\n",
    "    1. Filter only MG people (doesn´t say which field).\n",
    "\n",
    "* Practical job:\n",
    "    1. Filter relevant features\n"
   ]
  },
  {
   "cell_type": "code",
   "execution_count": 21,
   "metadata": {},
   "outputs": [],
   "source": [
    "import os\n",
    "import requests as r\n",
    "import zipfile\n",
    "import pandas as pd\n",
    "from io import BytesIO\n",
    "from typing import List\n",
    "\n",
    "url: str = 'http://download.inep.gov.br/microdados/microdados_enem_2019.zip'\n",
    "path: str = '../data/enem'"
   ]
  },
  {
   "cell_type": "markdown",
   "metadata": {},
   "source": [
    "# Extraction\n",
    "## Download and Unzip"
   ]
  },
  {
   "cell_type": "code",
   "execution_count": null,
   "metadata": {},
   "outputs": [],
   "source": [
    "# Check and create folder\n",
    "os.makedirs(path, exist_ok=True)\n",
    "\n",
    "# Download and Unzip\n",
    "try:\n",
    "    file_bytes: BytesIO = BytesIO(r.get(url).content)\n",
    "    zipfile.ZipFile(file_bytes).extractall(path)\n",
    "    print('Deu bom.')\n",
    "except Exception as err:\n",
    "    print(err)"
   ]
  },
  {
   "cell_type": "code",
   "execution_count": null,
   "metadata": {},
   "outputs": [],
   "source": [
    "os.listdir(path)"
   ]
  },
  {
   "cell_type": "markdown",
   "metadata": {},
   "source": [
    "## Data Analysis"
   ]
  },
  {
   "cell_type": "code",
   "execution_count": null,
   "metadata": {},
   "outputs": [],
   "source": [
    "file_path: str = '../data/enem/DADOS/MICRODADOS_ENEM_2019.csv'\n",
    "    \n",
    "df = pd.read_csv(file_path, sep=';', encoding='ISO8859-1')\n",
    "df.head()"
   ]
  },
  {
   "cell_type": "code",
   "execution_count": null,
   "metadata": {},
   "outputs": [],
   "source": [
    "print('Dataframe samples: {} | Featues: {}'.format(df.shape[0], df.shape[1]))"
   ]
  },
  {
   "cell_type": "code",
   "execution_count": null,
   "metadata": {},
   "outputs": [],
   "source": [
    "list(df.columns)"
   ]
  },
  {
   "cell_type": "code",
   "execution_count": null,
   "metadata": {},
   "outputs": [],
   "source": [
    "# Check State features to filter\n",
    "print('Alunos que Residem em MG: {}'.format(len(df[df.SG_UF_RESIDENCIA == 'MG'])))\n",
    "print('Alunos que Nasceram em MG: {}'.format(len(df[df.SG_UF_NASCIMENTO == 'MG'])))\n",
    "print('Alunos que Estudam em MG: {}'.format(len(df[df.SG_UF_ESC == 'MG'])))\n",
    "print('Alunos que Fizeram Prova em MG: {}'.format(len(df[df.SG_UF_PROVA == 'MG'])))"
   ]
  },
  {
   "cell_type": "markdown",
   "metadata": {},
   "source": [
    "## Filter Rules"
   ]
  },
  {
   "cell_type": "code",
   "execution_count": null,
   "metadata": {},
   "outputs": [],
   "source": [
    "df_filtered = df.loc[df.SG_UF_RESIDENCIA == 'MG'].copy()\n",
    "df_filtered.shape"
   ]
  },
  {
   "cell_type": "code",
   "execution_count": null,
   "metadata": {},
   "outputs": [],
   "source": [
    "df_filtered.to_csv(path + '/filtered_data.csv', sep=';', index=False, encoding='utf-8')"
   ]
  },
  {
   "cell_type": "markdown",
   "metadata": {},
   "source": [
    "# Transform\n",
    "\n",
    "## Filter Relevant Features"
   ]
  },
  {
   "attachments": {},
   "cell_type": "markdown",
   "metadata": {},
   "source": [
    "NU_NOTA_MT\n",
    "NU_NOTA_LC\n",
    "NU_NOTA_CH\n",
    "\n",
    "TP_SEXO\n",
    "TP_LINGUA (1)\n",
    "NO_MUNICIPIO_RESIDENCIA\n",
    "\n",
    "IN_SURDEZ (1)\n",
    "IN_DISLEXIA (1)\n",
    "\n",
    "Q021\n",
    "Q016 (C)\n",
    "Q002 (G)\n",
    "Q005 (1)\n",
    "Q001 (G)\n",
    "Q006 (M)\n",
    "\n"
   ]
  },
  {
   "cell_type": "code",
   "execution_count": 2,
   "metadata": {},
   "outputs": [
    {
     "data": {
      "text/html": [
       "<div>\n",
       "<style scoped>\n",
       "    .dataframe tbody tr th:only-of-type {\n",
       "        vertical-align: middle;\n",
       "    }\n",
       "\n",
       "    .dataframe tbody tr th {\n",
       "        vertical-align: top;\n",
       "    }\n",
       "\n",
       "    .dataframe thead th {\n",
       "        text-align: right;\n",
       "    }\n",
       "</style>\n",
       "<table border=\"1\" class=\"dataframe\">\n",
       "  <thead>\n",
       "    <tr style=\"text-align: right;\">\n",
       "      <th></th>\n",
       "      <th>NU_INSCRICAO</th>\n",
       "      <th>NU_ANO</th>\n",
       "      <th>CO_MUNICIPIO_RESIDENCIA</th>\n",
       "      <th>NO_MUNICIPIO_RESIDENCIA</th>\n",
       "      <th>CO_UF_RESIDENCIA</th>\n",
       "      <th>SG_UF_RESIDENCIA</th>\n",
       "      <th>NU_IDADE</th>\n",
       "      <th>TP_SEXO</th>\n",
       "      <th>TP_ESTADO_CIVIL</th>\n",
       "      <th>TP_COR_RACA</th>\n",
       "      <th>...</th>\n",
       "      <th>Q016</th>\n",
       "      <th>Q017</th>\n",
       "      <th>Q018</th>\n",
       "      <th>Q019</th>\n",
       "      <th>Q020</th>\n",
       "      <th>Q021</th>\n",
       "      <th>Q022</th>\n",
       "      <th>Q023</th>\n",
       "      <th>Q024</th>\n",
       "      <th>Q025</th>\n",
       "    </tr>\n",
       "  </thead>\n",
       "  <tbody>\n",
       "    <tr>\n",
       "      <th>0</th>\n",
       "      <td>190001005671</td>\n",
       "      <td>2019</td>\n",
       "      <td>3170206</td>\n",
       "      <td>Uberlândia</td>\n",
       "      <td>31</td>\n",
       "      <td>MG</td>\n",
       "      <td>21</td>\n",
       "      <td>M</td>\n",
       "      <td>1</td>\n",
       "      <td>1</td>\n",
       "      <td>...</td>\n",
       "      <td>B</td>\n",
       "      <td>A</td>\n",
       "      <td>A</td>\n",
       "      <td>D</td>\n",
       "      <td>A</td>\n",
       "      <td>A</td>\n",
       "      <td>D</td>\n",
       "      <td>B</td>\n",
       "      <td>B</td>\n",
       "      <td>B</td>\n",
       "    </tr>\n",
       "    <tr>\n",
       "      <th>1</th>\n",
       "      <td>190001009861</td>\n",
       "      <td>2019</td>\n",
       "      <td>3111705</td>\n",
       "      <td>Canaã</td>\n",
       "      <td>31</td>\n",
       "      <td>MG</td>\n",
       "      <td>20</td>\n",
       "      <td>M</td>\n",
       "      <td>1</td>\n",
       "      <td>1</td>\n",
       "      <td>...</td>\n",
       "      <td>A</td>\n",
       "      <td>A</td>\n",
       "      <td>A</td>\n",
       "      <td>B</td>\n",
       "      <td>A</td>\n",
       "      <td>A</td>\n",
       "      <td>C</td>\n",
       "      <td>A</td>\n",
       "      <td>A</td>\n",
       "      <td>A</td>\n",
       "    </tr>\n",
       "    <tr>\n",
       "      <th>2</th>\n",
       "      <td>190001021622</td>\n",
       "      <td>2019</td>\n",
       "      <td>3104007</td>\n",
       "      <td>Araxá</td>\n",
       "      <td>31</td>\n",
       "      <td>MG</td>\n",
       "      <td>24</td>\n",
       "      <td>M</td>\n",
       "      <td>1</td>\n",
       "      <td>2</td>\n",
       "      <td>...</td>\n",
       "      <td>A</td>\n",
       "      <td>A</td>\n",
       "      <td>A</td>\n",
       "      <td>C</td>\n",
       "      <td>B</td>\n",
       "      <td>A</td>\n",
       "      <td>C</td>\n",
       "      <td>A</td>\n",
       "      <td>A</td>\n",
       "      <td>B</td>\n",
       "    </tr>\n",
       "    <tr>\n",
       "      <th>3</th>\n",
       "      <td>190001026636</td>\n",
       "      <td>2019</td>\n",
       "      <td>3106200</td>\n",
       "      <td>Belo Horizonte</td>\n",
       "      <td>31</td>\n",
       "      <td>MG</td>\n",
       "      <td>33</td>\n",
       "      <td>M</td>\n",
       "      <td>1</td>\n",
       "      <td>1</td>\n",
       "      <td>...</td>\n",
       "      <td>B</td>\n",
       "      <td>A</td>\n",
       "      <td>B</td>\n",
       "      <td>B</td>\n",
       "      <td>A</td>\n",
       "      <td>A</td>\n",
       "      <td>D</td>\n",
       "      <td>A</td>\n",
       "      <td>D</td>\n",
       "      <td>B</td>\n",
       "    </tr>\n",
       "    <tr>\n",
       "      <th>4</th>\n",
       "      <td>190001026742</td>\n",
       "      <td>2019</td>\n",
       "      <td>3162401</td>\n",
       "      <td>São João da Ponte</td>\n",
       "      <td>31</td>\n",
       "      <td>MG</td>\n",
       "      <td>23</td>\n",
       "      <td>M</td>\n",
       "      <td>1</td>\n",
       "      <td>3</td>\n",
       "      <td>...</td>\n",
       "      <td>A</td>\n",
       "      <td>A</td>\n",
       "      <td>A</td>\n",
       "      <td>B</td>\n",
       "      <td>B</td>\n",
       "      <td>A</td>\n",
       "      <td>C</td>\n",
       "      <td>A</td>\n",
       "      <td>B</td>\n",
       "      <td>A</td>\n",
       "    </tr>\n",
       "  </tbody>\n",
       "</table>\n",
       "<p>5 rows × 136 columns</p>\n",
       "</div>"
      ],
      "text/plain": [
       "   NU_INSCRICAO  NU_ANO  CO_MUNICIPIO_RESIDENCIA NO_MUNICIPIO_RESIDENCIA  \\\n",
       "0  190001005671    2019                  3170206              Uberlândia   \n",
       "1  190001009861    2019                  3111705                   Canaã   \n",
       "2  190001021622    2019                  3104007                   Araxá   \n",
       "3  190001026636    2019                  3106200          Belo Horizonte   \n",
       "4  190001026742    2019                  3162401       São João da Ponte   \n",
       "\n",
       "   CO_UF_RESIDENCIA SG_UF_RESIDENCIA  NU_IDADE TP_SEXO  TP_ESTADO_CIVIL  \\\n",
       "0                31               MG        21       M                1   \n",
       "1                31               MG        20       M                1   \n",
       "2                31               MG        24       M                1   \n",
       "3                31               MG        33       M                1   \n",
       "4                31               MG        23       M                1   \n",
       "\n",
       "   TP_COR_RACA  ...  Q016  Q017 Q018  Q019 Q020  Q021  Q022  Q023  Q024  Q025  \n",
       "0            1  ...     B     A    A     D    A     A     D     B     B     B  \n",
       "1            1  ...     A     A    A     B    A     A     C     A     A     A  \n",
       "2            2  ...     A     A    A     C    B     A     C     A     A     B  \n",
       "3            1  ...     B     A    B     B    A     A     D     A     D     B  \n",
       "4            3  ...     A     A    A     B    B     A     C     A     B     A  \n",
       "\n",
       "[5 rows x 136 columns]"
      ]
     },
     "execution_count": 2,
     "metadata": {},
     "output_type": "execute_result"
    }
   ],
   "source": [
    "df = pd.read_csv(path + '/filtered_data.csv', sep=';', encoding='utf-8')\n",
    "df.head()"
   ]
  },
  {
   "cell_type": "code",
   "execution_count": 4,
   "metadata": {},
   "outputs": [
    {
     "data": {
      "text/plain": [
       "546.8"
      ]
     },
     "execution_count": 4,
     "metadata": {},
     "output_type": "execute_result"
    }
   ],
   "source": [
    "# Q1 Qual é a média da nota em matemática de todos os alunos mineiros?\n",
    "round(df.NU_NOTA_MT.mean(), 1)"
   ]
  },
  {
   "cell_type": "code",
   "execution_count": 5,
   "metadata": {},
   "outputs": [
    {
     "data": {
      "text/plain": [
       "531.2"
      ]
     },
     "execution_count": 5,
     "metadata": {},
     "output_type": "execute_result"
    }
   ],
   "source": [
    "# Q2 Qual é a média da nota em Linguagens e Códigos de todos os alunos mineiros?\n",
    "round(df.NU_NOTA_LC.mean(), 1)"
   ]
  },
  {
   "cell_type": "code",
   "execution_count": 6,
   "metadata": {},
   "outputs": [
    {
     "data": {
      "text/plain": [
       "515.1"
      ]
     },
     "execution_count": 6,
     "metadata": {},
     "output_type": "execute_result"
    }
   ],
   "source": [
    "# Q3 Qual é a média da nota em Ciências Humanas dos alunos do sexo FEMININO mineiros?\n",
    "round(\n",
    "    df.loc[\n",
    "        df.TP_SEXO == 'F'\n",
    "    ]['NU_NOTA_CH'].mean()\n",
    ", 1)"
   ]
  },
  {
   "cell_type": "code",
   "execution_count": 7,
   "metadata": {},
   "outputs": [
    {
     "data": {
      "text/plain": [
       "529.7"
      ]
     },
     "execution_count": 7,
     "metadata": {},
     "output_type": "execute_result"
    }
   ],
   "source": [
    "# Q4 Qual é a média da nota em Ciências Humanas dos alunos do sexo MASCULINO?\n",
    "round(\n",
    "    df.loc[\n",
    "        df.TP_SEXO == 'M'\n",
    "    ]['NU_NOTA_CH'].mean()\n",
    ", 1)"
   ]
  },
  {
   "cell_type": "code",
   "execution_count": 8,
   "metadata": {},
   "outputs": [
    {
     "data": {
      "text/plain": [
       "525.5"
      ]
     },
     "execution_count": 8,
     "metadata": {},
     "output_type": "execute_result"
    }
   ],
   "source": [
    "# Q5 Qual é a média da nota em Matemática dos alunos do sexo FEMININO que moram na cidade de Montes Claros?\n",
    "round(\n",
    "    df.loc[\n",
    "        (df.TP_SEXO == 'F') &\n",
    "        (df.NO_MUNICIPIO_RESIDENCIA == 'Montes Claros')\n",
    "    ]['NU_NOTA_MT'].mean()\n",
    ", 1)"
   ]
  },
  {
   "cell_type": "code",
   "execution_count": 18,
   "metadata": {},
   "outputs": [
    {
     "data": {
      "text/plain": [
       "543.3"
      ]
     },
     "execution_count": 18,
     "metadata": {},
     "output_type": "execute_result"
    }
   ],
   "source": [
    "# Q6 Qual é a média da nota em Matemática dos alunos do município de Sabará que possuem TV por assinatura na residência?\n",
    "round(\n",
    "    df.loc[\n",
    "        (df.NO_MUNICIPIO_RESIDENCIA == 'Sabará') &\n",
    "        (df.Q021 == 'B')\n",
    "    ]['NU_NOTA_MT'].mean()\n",
    ", 1)"
   ]
  },
  {
   "cell_type": "code",
   "execution_count": 44,
   "metadata": {},
   "outputs": [
    {
     "data": {
      "text/plain": [
       "557.3"
      ]
     },
     "execution_count": 44,
     "metadata": {},
     "output_type": "execute_result"
    }
   ],
   "source": [
    "# Q7 Qual é a média da nota em Ciências Humanas dos alunos mineiros que possuem dois fornos micro-ondas em casa?\n",
    "round(\n",
    "    df.loc[\n",
    "        (df.Q016 == 'C')\n",
    "    ]['NU_NOTA_CH'].mean()\n",
    ", 1)"
   ]
  },
  {
   "cell_type": "code",
   "execution_count": 20,
   "metadata": {},
   "outputs": [
    {
     "data": {
      "text/plain": [
       "620.0"
      ]
     },
     "execution_count": 20,
     "metadata": {},
     "output_type": "execute_result"
    }
   ],
   "source": [
    "# Q8 Qual é a nota média em Matemática dos alunos mineiros cuja mãe completou a pós-graduação?\n",
    "round(\n",
    "    df.loc[\n",
    "        (df.Q002 == 'G')\n",
    "    ]['NU_NOTA_MT'].mean()\n",
    ", 1)"
   ]
  },
  {
   "cell_type": "code",
   "execution_count": 22,
   "metadata": {},
   "outputs": [
    {
     "data": {
      "text/plain": [
       "578.0"
      ]
     },
     "execution_count": 22,
     "metadata": {},
     "output_type": "execute_result"
    }
   ],
   "source": [
    "# Q9 Qual é a nota média em Matemática dos alunos de Belo Horizonte e de Conselheiro Lafaiete?\n",
    "cities: List = ['Belo Horizonte', 'Conselheiro Lafaiete']\n",
    "round(\n",
    "    df.loc[\n",
    "        (df.NO_MUNICIPIO_RESIDENCIA.isin(cities))\n",
    "    ]['NU_NOTA_MT'].mean()\n",
    ", 1)"
   ]
  },
  {
   "cell_type": "code",
   "execution_count": 26,
   "metadata": {},
   "outputs": [
    {
     "data": {
      "text/plain": [
       "534.5"
      ]
     },
     "execution_count": 26,
     "metadata": {},
     "output_type": "execute_result"
    }
   ],
   "source": [
    "# Q10 Qual é a nota média em Ciências Humanas dos alunos mineiros que moram sozinhos?\n",
    "round(\n",
    "    df.loc[\n",
    "        (df.Q005 == 1)\n",
    "    ]['NU_NOTA_CH'].mean()\n",
    ", 1)"
   ]
  },
  {
   "cell_type": "code",
   "execution_count": 27,
   "metadata": {},
   "outputs": [
    {
     "data": {
      "text/plain": [
       "586.7"
      ]
     },
     "execution_count": 27,
     "metadata": {},
     "output_type": "execute_result"
    }
   ],
   "source": [
    "# Q11 Qual é a nota média em Ciências Humanas dos alunos mineiros cujo pai completou Pós graduação e possuem renda familiar entre R$ 8.982,01 e R$ 9.980,00.\n",
    "round(\n",
    "    df.loc[\n",
    "        (df.Q001 == 'G') & \n",
    "        (df.Q006 == 'M')\n",
    "    ]['NU_NOTA_CH'].mean()\n",
    ", 1)"
   ]
  },
  {
   "cell_type": "code",
   "execution_count": 32,
   "metadata": {},
   "outputs": [
    {
     "data": {
      "text/plain": [
       "510.8"
      ]
     },
     "execution_count": 32,
     "metadata": {},
     "output_type": "execute_result"
    }
   ],
   "source": [
    "# Q12 Qual é a nota média em Matemática dos alunos do sexo Feminino que moram em Lavras e escolheram “Espanhol” como língua estrangeira?\n",
    "round(\n",
    "    df.loc[\n",
    "        (df.TP_SEXO == 'F') & \n",
    "        (df.NO_MUNICIPIO_RESIDENCIA == 'Lavras') &\n",
    "        (df.TP_LINGUA == 1) \n",
    "    ]['NU_NOTA_MT'].mean()\n",
    ", 1)"
   ]
  },
  {
   "cell_type": "code",
   "execution_count": 33,
   "metadata": {},
   "outputs": [
    {
     "data": {
      "text/plain": [
       "555.1"
      ]
     },
     "execution_count": 33,
     "metadata": {},
     "output_type": "execute_result"
    }
   ],
   "source": [
    "# Q13 Qual é a nota média em Matemática dos alunos do sexo Masculino que moram em Ouro Preto?\n",
    "round(\n",
    "    df.loc[\n",
    "        (df.TP_SEXO == 'M') & \n",
    "        (df.NO_MUNICIPIO_RESIDENCIA == 'Ouro Preto')\n",
    "    ]['NU_NOTA_MT'].mean()\n",
    ", 1)"
   ]
  },
  {
   "cell_type": "code",
   "execution_count": 36,
   "metadata": {},
   "outputs": [
    {
     "data": {
      "text/plain": [
       "435.4"
      ]
     },
     "execution_count": 36,
     "metadata": {},
     "output_type": "execute_result"
    }
   ],
   "source": [
    "# Q14 Qual é a nota média em Ciências Humanas dos alunos surdos?\n",
    "round(\n",
    "    df.loc[\n",
    "        (df.IN_SURDEZ == 1)\n",
    "    ]['NU_NOTA_CH'].mean()\n",
    ", 1)"
   ]
  },
  {
   "cell_type": "code",
   "execution_count": 37,
   "metadata": {},
   "outputs": [
    {
     "data": {
      "text/plain": [
       "582.2"
      ]
     },
     "execution_count": 37,
     "metadata": {},
     "output_type": "execute_result"
    }
   ],
   "source": [
    "# Q15 Qual é a nota média em Matemática dos alunos do sexo FEMININO, que moram em Belo Horizonte, Sabará, Nova Lima e Betim e possuem dislexia?\n",
    "cities: List = ['Belo Horizonte', 'Sabará', 'Nova Lima', 'Betim']\n",
    "round(\n",
    "    df.loc[\n",
    "        (df.TP_SEXO == 'F') & \n",
    "        (df.NO_MUNICIPIO_RESIDENCIA.isin(cities)) &\n",
    "        (df.IN_DISLEXIA == 1) \n",
    "    ]['NU_NOTA_MT'].mean()\n",
    ", 1)"
   ]
  }
 ],
 "metadata": {
  "kernelspec": {
   "display_name": "Python 3",
   "language": "python",
   "name": "python3"
  },
  "language_info": {
   "codemirror_mode": {
    "name": "ipython",
    "version": 3
   },
   "file_extension": ".py",
   "mimetype": "text/x-python",
   "name": "python",
   "nbconvert_exporter": "python",
   "pygments_lexer": "ipython3",
   "version": "3.7.4"
  }
 },
 "nbformat": 4,
 "nbformat_minor": 4
}
