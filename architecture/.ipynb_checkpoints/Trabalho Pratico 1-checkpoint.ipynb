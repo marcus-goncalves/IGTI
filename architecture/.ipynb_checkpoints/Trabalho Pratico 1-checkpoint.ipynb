{
 "cells": [
  {
   "cell_type": "markdown",
   "metadata": {},
   "source": [
    "# Objetivos #\n",
    "\n",
    "### Exercitar os seguintes conceitos trabalhados no Módulo: ###\n",
    "* Identificar as características arquiteturais prioritárias conforme problema descrito.\n",
    "* Descrever corretamente as características arquiteturais.\n",
    "* Identificar as principais características dos principais estilo arquiteturais apresentados.\n",
    "* Selecionar o estilo arquitetural mais adequado conforme as características arquiteturais.\n",
    "\n",
    "### Enunciado ###\n",
    "Para cada cenário proposto, selecione o estilo arquitetural mais indicado dentre aqueles apresentados na parte inicial da disciplina: \n",
    "* __camadas__\n",
    "* __pipeline__\n",
    "* __microkernel__\n",
    "* __microsserviços__\n",
    "\n",
    "### Atividades ###\n",
    "Para responder as questões objetivas do teste, os alunos deverão desempenhar as seguintes atividades para cada cenário:\n",
    "1. Analisar contexto e identificar as características arquiteturais correspondentes.\n",
    "2. Selecionar estilo arquitetural mais indicado e descrever as razões da escolha."
   ]
  },
  {
   "cell_type": "markdown",
   "metadata": {},
   "source": [
    "### Cenário 1 ###\n",
    "Uma plataforma de serviços possui cerca de 20 servidores de aplicação, cada um gerando cerca de 100 eventos por minuto, registrados em arquivos de log. Cada arquivo de log possui informações sobre a data e hora da requisição, o recurso solicitado e o status da resposta. É necessário prover uma solução que execute a seguinte sequência de ações:\n",
    "1. leia arquivo por arquivo\n",
    "2. extraia apenas as linhas de log com status de falha\n",
    "3. armazene os resultados em uma base não estruturada. Uma característica importante é que a solução seja de fácil manutenção"
   ]
  },
  {
   "cell_type": "markdown",
   "metadata": {},
   "source": [
    "### Resposta Cenário 1 ###\n",
    "#### Características Arquiteturais ####\n",
    "Manutenabilidade, Desempenho (20 servers * 100 registros * 1440 minutos = 288k registros/dia)\n",
    "\n",
    "\n",
    "#### Estilo Arquitetural Escolhido ####\n",
    "Arquitetura em Pipeline pela necessidade de extrair os dados de cada arquivo, transforma-los filtrando somente os status de falha e carregá-los em uma base não estruturada.\n",
    "\n"
   ]
  },
  {
   "cell_type": "markdown",
   "metadata": {},
   "source": [
    "### Cenário 2 ###\n",
    "Uma empresa de grande porte possui uma plataforma de gestão empresarial que inclui todas as funções, como gestão de portfólio, projetos, vendas, produção e logística, todos mantidos em um único módulo. Um dos problemas apontados é a necessidade de se interromper toda a plataforma, quando ocorre um problema em uma determinada função.\n",
    "Além disso, algumas funções, tais como vendas e produção, têm que suportar quantidades muito grandes e variadas de usuários, diferentemente de outras funções, como portfólio e projetos, acessadas apenas pelos gestores."
   ]
  },
  {
   "cell_type": "markdown",
   "metadata": {},
   "source": [
    "### Resposta Cenário 2 ###\n",
    "#### Características Arquiteturais ####\n",
    "Segurança, Disponibilidade, Manutenabilidade, Testabilidade\n",
    "\n",
    "\n",
    "#### Estilo Arquitetural Escolhido ####\n",
    "Arquitetura em Microserviços, pela sua modularidade permite que apenas determinado módulo/funcionalidade fique em manutenção, sem downtime dos demais. Além disso, a arquitetura escolhida também permite alto grau de escalabilidade específica destes módulos, ou seja, caso a funcionalidade de vendas/produção atinjam um nível alarmante de utilização, pode-se escalar novos recursos para suprir essa necessidade.\n"
   ]
  },
  {
   "cell_type": "markdown",
   "metadata": {},
   "source": [
    "### Cenário 3 ###\n",
    "Uma pequena empresa de produtos artesanais precisa de uma aplicação de comércio eletrônico. A empresa está iniciando suas atividades e conta com cerca de 30 clientes de sua loja física. O objetivo é permitir que esses clientes façam as compras por meio de uma aplicação web. Os clientes têm uma expectativa de atendimento em, no máximo, cinco segundos para cada requisição."
   ]
  },
  {
   "cell_type": "markdown",
   "metadata": {},
   "source": [
    "### Resposta Cenário 3 ###\n",
    "#### Características Arquiteturais ####\n",
    "Desempenho, Usabilidade, Segurança\n",
    "\n",
    "\n",
    "#### Estilo Arquitetural Escolhido ####\n",
    "Arquitetura em Camadas devido a sua simplicidade. É uma estrutura \"básica\" que pode ser evoluída de acordo com a necessidade, além de ser a porta de entrada para demais soluções caso haja crescimento e necessidade de adaptação.\n",
    "\n"
   ]
  },
  {
   "cell_type": "markdown",
   "metadata": {},
   "source": [
    "### Cenário 4 ###\n",
    "Uma empresa precisa implementar na sua intranet um recurso que permita aos funcionários personalizar as informações que irão aparecer na página principal de cada um. A cada perfil de usuário deverá ser permitido selecionar informações pessoais, dados relativos aos projetos, atividades relativas à qualidade de vida, voluntariado ou hobbies."
   ]
  },
  {
   "cell_type": "markdown",
   "metadata": {},
   "source": [
    "### Resposta Cenário 4 ###\n",
    "#### Características Arquiteturais ####\n",
    "Reusabilidade, Usabilidade\n",
    "\n",
    "\n",
    "#### Estilo Arquitetural Escolhido ####\n",
    "Arquitetura em MicroKernel, dessa forma, podemos isolar o core da aplicação (pleno funcionamento da intranet) e suas funcionalidade de usuário."
   ]
  },
  {
   "cell_type": "code",
   "execution_count": null,
   "metadata": {},
   "outputs": [],
   "source": []
  }
 ],
 "metadata": {
  "kernelspec": {
   "display_name": "Python 3",
   "language": "python",
   "name": "python3"
  },
  "language_info": {
   "codemirror_mode": {
    "name": "ipython",
    "version": 3
   },
   "file_extension": ".py",
   "mimetype": "text/x-python",
   "name": "python",
   "nbconvert_exporter": "python",
   "pygments_lexer": "ipython3",
   "version": "3.7.4"
  }
 },
 "nbformat": 4,
 "nbformat_minor": 2
}
